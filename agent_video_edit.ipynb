{
 "cells": [
  {
   "cell_type": "code",
   "execution_count": null,
   "metadata": {},
   "outputs": [],
   "source": [
    "%reload_ext autoreload\n",
    "%autoreload 2\n",
    "\n",
    "import json\n",
    "import dotenv\n",
    "dotenv.load_dotenv()\n",
    "\n",
    "from tiktokgen.agent_pipeline import agent_pipeline\n",
    "\n",
    "from ai21 import AI21Client\n",
    "from ai21.models.chat import ChatMessage\n",
    "\n",
    "a21client = AI21Client()"
   ]
  },
  {
   "cell_type": "code",
   "execution_count": null,
   "metadata": {},
   "outputs": [],
   "source": [
    "def generate_video_script(descriptions, event_description):\n",
    "  messages = [\n",
    "    ChatMessage(content=\"\"\"\n",
    "      You are a helpful agent that can generate a video script for a potentially viral TikTok video.\n",
    "      You will be presented with a description of the event and a description of the videos and images taken on the event.\n",
    "      You need to generate a script for the video.\n",
    "      The format of the script should be as follows:\n",
    "      [\n",
    "        {\n",
    "          \"prompt\": \"description of the scene\",\n",
    "          \"text\": \"script text\"\n",
    "        },\n",
    "        ...\n",
    "      ]\n",
    "    \"\"\", role=\"system\"),\n",
    "    ChatMessage(content=f\"\"\"\n",
    "      Video descriptions:\n",
    "      {descriptions}\n",
    "      \n",
    "      Event description:\n",
    "      {event_description}\n",
    "    \"\"\", role=\"user\")\n",
    "  ]\n",
    "  response = a21client.chat.completions.create(\n",
    "  messages=messages,\n",
    "  model=\"jamba-1.5-large\",\n",
    "  stream=True\n",
    ")\n",
    "\n",
    "  final_response = \"\"\n",
    "  for chunk in response:\n",
    "    cur_response = chunk.choices[0].delta.content\n",
    "    if cur_response is not None:\n",
    "      final_response += cur_response\n",
    "\n",
    "  return final_response\n"
   ]
  },
  {
   "cell_type": "code",
   "execution_count": null,
   "metadata": {},
   "outputs": [],
   "source": [
    "with open(\"data/local_media/video_annotations.json\", \"r\") as file:\n",
    "    annotations = json.loads(file.read())\n",
    "video_descriptions = [annotations[p].replace(\"\\n\", \" \") for p in annotations.keys()]\n",
    "full_video_description = \"\\n\".join([f\"{i}. {desc}\" for i, desc in enumerate(video_descriptions)])\n",
    "\n",
    "event_description = \"Today we have participated in the AGI house hackathon. We have built a TikTok video generator that can create videos with the same quality as the ones from TikTok influencers.\"\n",
    "\n",
    "SCRIPT = generate_video_script(video_descriptions, event_description)"
   ]
  },
  {
   "cell_type": "code",
   "execution_count": 26,
   "metadata": {},
   "outputs": [],
   "source": [
    "generated_script = SCRIPT"
   ]
  },
  {
   "cell_type": "code",
   "execution_count": 14,
   "metadata": {},
   "outputs": [],
   "source": [
    "SCRIPT = [\n",
    "  {\n",
    "    \"prompt\": \"Door of the hackathon open, a person walks in\",\n",
    "    \"text\": \"Welcome to the AGI Hackathon at MIT. Where we have built a TikTok video generator.\"\n",
    "  },\n",
    "  {\n",
    "    \"prompt\": \"Montage of previous hackathons—Sergey Brin speaking, teams working, robots operating.\",\n",
    "    \"text\": \"Where innovators meet legends.\"\n",
    "  },\n",
    "  {\n",
    "    \"prompt\": \"Close-ups of cutting-edge tech: AI models, neural networks visualizations, autonomous drones.\",\n",
    "    \"text\": \"Dive into the forefront of AI technology.\"\n",
    "  },\n",
    "  {\n",
    "    \"prompt\": \"Shots of participants collaborating, diverse teams brainstorming, sketches turning into prototypes.\",\n",
    "    \"text\": \"Collaborate with the brightest minds.\"\n",
    "  },\n",
    "  {\n",
    "    \"prompt\": \"Highlight AI21's involvement—logos, representatives assisting participants, showcasing Jamba models.\",\n",
    "    \"text\": \"Powered by industry leaders like AI21 and Lambda.\"\n",
    "  },\n",
    "  {\n",
    "    \"prompt\": \"Event details displayed over a dynamic background of previous hackathon highlights.\",\n",
    "    \"text\": \"Don't miss out. Register now for the AGI Hackathon at MIT on September 28, 2024.\"\n",
    "  }\n",
    "]"
   ]
  },
  {
   "cell_type": "code",
   "execution_count": 25,
   "metadata": {},
   "outputs": [
    {
     "name": "stdout",
     "output_type": "stream",
     "text": [
      "Prompt: Door of the hackathon open, a person walks in\n",
      "Text: Welcome to the AGI Hackathon at MIT. Where we have built a TikTok video generator.\n",
      "\n",
      "Prompt: Montage of previous hackathons—Sergey Brin speaking, teams working, robots operating.\n",
      "Text: Where innovators meet legends.\n",
      "\n",
      "Prompt: Close-ups of cutting-edge tech: AI models, neural networks visualizations, autonomous drones.\n",
      "Text: Dive into the forefront of AI technology.\n",
      "\n",
      "Prompt: Shots of participants collaborating, diverse teams brainstorming, sketches turning into prototypes.\n",
      "Text: Collaborate with the brightest minds.\n",
      "\n",
      "Prompt: Highlight AI21's involvement—logos, representatives assisting participants, showcasing Jamba models.\n",
      "Text: Powered by industry leaders like AI21 and Lambda.\n",
      "\n",
      "Prompt: Event details displayed over a dynamic background of previous hackathon highlights.\n",
      "Text: Don't miss out. Register now for the AGI Hackathon at MIT on September 28, 2024.\n",
      "\n"
     ]
    }
   ],
   "source": [
    "for s in generated_script:\n",
    "    print(f\"Prompt: {s['prompt']}\\nText: {s['text']}\\n\")\n"
   ]
  },
  {
   "cell_type": "code",
   "execution_count": 15,
   "metadata": {},
   "outputs": [
    {
     "name": "stdout",
     "output_type": "stream",
     "text": [
      "1, 2, 5, 4, 3, 6\n",
      "[1, 2, 5, 4, 3, 6]\n",
      "Converting data/local_media/IMG_7473.MOV to .mp4\n",
      "Converting data/local_media/IMG_7472.MOV to .mp4\n",
      "Converting data/local_media/IMG_7470.MOV to .mp4\n",
      "Converting data/local_media/AGI intro 2.MOV to .mp4\n",
      "Converting data/local_media/event starts.MOV to .mp4\n",
      "Converting data/local_media/IMG_7471.MOV to .mp4\n",
      "Audio File Saved: data/Generate_speech_1.mp3\n",
      "transcription_data: Transcription(text='Welcome to the AGI Hackathon at MIT, where we have built a TikTok video generator.', task='transcribe', language='english', duration=5.130000114440918, words=[{'word': 'Welcome', 'start': 0.0, 'end': 0.3400000035762787}, {'word': 'to', 'start': 0.3400000035762787, 'end': 0.5400000214576721}, {'word': 'the', 'start': 0.5400000214576721, 'end': 0.6800000071525574}, {'word': 'AGI', 'start': 0.6800000071525574, 'end': 1.0399999618530273}, {'word': 'Hackathon', 'start': 1.0399999618530273, 'end': 1.5199999809265137}, {'word': 'at', 'start': 1.5199999809265137, 'end': 1.7200000286102295}, {'word': 'MIT', 'start': 1.7200000286102295, 'end': 2.2200000286102295}, {'word': 'where', 'start': 2.880000114440918, 'end': 2.940000057220459}, {'word': 'we', 'start': 2.940000057220459, 'end': 3.0799999237060547}, {'word': 'have', 'start': 3.0799999237060547, 'end': 3.259999990463257}, {'word': 'built', 'start': 3.259999990463257, 'end': 3.4800000190734863}, {'word': 'a', 'start': 3.4800000190734863, 'end': 3.700000047683716}, {'word': 'TikTok', 'start': 3.700000047683716, 'end': 4.0}, {'word': 'video', 'start': 4.0, 'end': 4.340000152587891}, {'word': 'generator', 'start': 4.340000152587891, 'end': 4.800000190734863}])\n",
      "Moviepy - Building video data/output_1.mp4.\n",
      "MoviePy - Writing audio in output_1TEMP_MPY_wvf_snd.mp4\n"
     ]
    },
    {
     "name": "stderr",
     "output_type": "stream",
     "text": [
      "                                                                   \r"
     ]
    },
    {
     "name": "stdout",
     "output_type": "stream",
     "text": [
      "MoviePy - Done.\n",
      "Moviepy - Writing video data/output_1.mp4\n",
      "\n"
     ]
    },
    {
     "name": "stderr",
     "output_type": "stream",
     "text": [
      "                                                              \r"
     ]
    },
    {
     "name": "stdout",
     "output_type": "stream",
     "text": [
      "Moviepy - Done !\n",
      "Moviepy - video ready data/output_1.mp4\n",
      "Audio File Saved: data/Generate_speech_2.mp3\n",
      "transcription_data: Transcription(text='where innovators meet legends.', task='transcribe', language='english', duration=1.840000033378601, words=[{'word': 'where', 'start': 0.0, 'end': 0.20000000298023224}, {'word': 'innovators', 'start': 0.20000000298023224, 'end': 0.8199999928474426}, {'word': 'meet', 'start': 0.8199999928474426, 'end': 1.2200000286102295}, {'word': 'legends', 'start': 1.2200000286102295, 'end': 1.8200000524520874}])\n",
      "Moviepy - Building video data/output_2.mp4.\n",
      "MoviePy - Writing audio in output_2TEMP_MPY_wvf_snd.mp4\n"
     ]
    },
    {
     "name": "stderr",
     "output_type": "stream",
     "text": [
      "                                                       \r"
     ]
    },
    {
     "name": "stdout",
     "output_type": "stream",
     "text": [
      "MoviePy - Done.\n",
      "Moviepy - Writing video data/output_2.mp4\n",
      "\n"
     ]
    },
    {
     "name": "stderr",
     "output_type": "stream",
     "text": [
      "                                                            \r"
     ]
    },
    {
     "name": "stdout",
     "output_type": "stream",
     "text": [
      "Moviepy - Done !\n",
      "Moviepy - video ready data/output_2.mp4\n",
      "Audio File Saved: data/Generate_speech_3.mp3\n",
      "transcription_data: Transcription(text='Dive into the forefront of AI technology.', task='transcribe', language='english', duration=2.4700000286102295, words=[{'word': 'Dive', 'start': 0.0, 'end': 0.36000001430511475}, {'word': 'into', 'start': 0.36000001430511475, 'end': 0.5600000023841858}, {'word': 'the', 'start': 0.5600000023841858, 'end': 0.7400000095367432}, {'word': 'forefront', 'start': 0.7400000095367432, 'end': 1.100000023841858}, {'word': 'of', 'start': 1.100000023841858, 'end': 1.399999976158142}, {'word': 'AI', 'start': 1.399999976158142, 'end': 1.600000023841858}, {'word': 'technology', 'start': 1.600000023841858, 'end': 2.140000104904175}])\n",
      "Moviepy - Building video data/output_3.mp4.\n",
      "MoviePy - Writing audio in output_3TEMP_MPY_wvf_snd.mp4\n"
     ]
    },
    {
     "name": "stderr",
     "output_type": "stream",
     "text": [
      "                                                       \r"
     ]
    },
    {
     "name": "stdout",
     "output_type": "stream",
     "text": [
      "MoviePy - Done.\n",
      "Moviepy - Writing video data/output_3.mp4\n",
      "\n"
     ]
    },
    {
     "name": "stderr",
     "output_type": "stream",
     "text": [
      "                                                            \r"
     ]
    },
    {
     "name": "stdout",
     "output_type": "stream",
     "text": [
      "Moviepy - Done !\n",
      "Moviepy - video ready data/output_3.mp4\n",
      "Audio File Saved: data/Generate_speech_4.mp3\n",
      "transcription_data: Transcription(text='Collaborate with the brightest minds.', task='transcribe', language='english', duration=2.180000066757202, words=[{'word': 'Collaborate', 'start': 0.0, 'end': 0.7200000286102295}, {'word': 'with', 'start': 0.7200000286102295, 'end': 0.8799999952316284}, {'word': 'the', 'start': 0.8799999952316284, 'end': 1.059999942779541}, {'word': 'brightest', 'start': 1.059999942779541, 'end': 1.3600000143051147}, {'word': 'minds', 'start': 1.3600000143051147, 'end': 1.7400000095367432}])\n",
      "Moviepy - Building video data/output_4.mp4.\n",
      "MoviePy - Writing audio in output_4TEMP_MPY_wvf_snd.mp4\n"
     ]
    },
    {
     "name": "stderr",
     "output_type": "stream",
     "text": [
      "                                                       \r"
     ]
    },
    {
     "name": "stdout",
     "output_type": "stream",
     "text": [
      "MoviePy - Done.\n",
      "Moviepy - Writing video data/output_4.mp4\n",
      "\n"
     ]
    },
    {
     "name": "stderr",
     "output_type": "stream",
     "text": [
      "                                                            \r"
     ]
    },
    {
     "name": "stdout",
     "output_type": "stream",
     "text": [
      "Moviepy - Done !\n",
      "Moviepy - video ready data/output_4.mp4\n",
      "Audio File Saved: data/Generate_speech_5.mp3\n",
      "transcription_data: Transcription(text='powered by industry leaders like AI21 and Lambda.', task='transcribe', language='english', duration=3.5199999809265137, words=[{'word': 'powered', 'start': 0.0, 'end': 0.30000001192092896}, {'word': 'by', 'start': 0.30000001192092896, 'end': 0.5199999809265137}, {'word': 'industry', 'start': 0.5199999809265137, 'end': 0.8600000143051147}, {'word': 'leaders', 'start': 0.8600000143051147, 'end': 1.2400000095367432}, {'word': 'like', 'start': 1.2400000095367432, 'end': 1.7000000476837158}, {'word': 'AI21', 'start': 1.7000000476837158, 'end': 2.440000057220459}, {'word': 'and', 'start': 2.440000057220459, 'end': 2.9800000190734863}, {'word': 'Lambda', 'start': 2.9800000190734863, 'end': 3.180000066757202}])\n",
      "Moviepy - Building video data/output_5.mp4.\n",
      "MoviePy - Writing audio in output_5TEMP_MPY_wvf_snd.mp4\n"
     ]
    },
    {
     "name": "stderr",
     "output_type": "stream",
     "text": [
      "                                                       \r"
     ]
    },
    {
     "name": "stdout",
     "output_type": "stream",
     "text": [
      "MoviePy - Done.\n",
      "Moviepy - Writing video data/output_5.mp4\n",
      "\n"
     ]
    },
    {
     "name": "stderr",
     "output_type": "stream",
     "text": [
      "                                                              \r"
     ]
    },
    {
     "name": "stdout",
     "output_type": "stream",
     "text": [
      "Moviepy - Done !\n",
      "Moviepy - video ready data/output_5.mp4\n",
      "Audio File Saved: data/Generate_speech_6.mp3\n",
      "transcription_data: Transcription(text=\"Don't miss out. Register now for the AGI Hackathon at MIT on September 28, 2024.\", task='transcribe', language='english', duration=5.920000076293945, words=[{'word': \"Don't\", 'start': 0.0, 'end': 0.30000001192092896}, {'word': 'miss', 'start': 0.30000001192092896, 'end': 0.4399999976158142}, {'word': 'out', 'start': 0.4399999976158142, 'end': 0.7799999713897705}, {'word': 'Register', 'start': 1.2599999904632568, 'end': 1.2599999904632568}, {'word': 'now', 'start': 1.2599999904632568, 'end': 1.5800000429153442}, {'word': 'for', 'start': 1.5800000429153442, 'end': 1.7400000095367432}, {'word': 'the', 'start': 1.7400000095367432, 'end': 1.9800000190734863}, {'word': 'AGI', 'start': 1.9800000190734863, 'end': 2.240000009536743}, {'word': 'Hackathon', 'start': 2.240000009536743, 'end': 2.700000047683716}, {'word': 'at', 'start': 2.700000047683716, 'end': 2.9200000762939453}, {'word': 'MIT', 'start': 2.9200000762939453, 'end': 3.4000000953674316}, {'word': 'on', 'start': 3.4000000953674316, 'end': 3.9600000381469727}, {'word': 'September', 'start': 3.9600000381469727, 'end': 4.260000228881836}, {'word': '28', 'start': 4.260000228881836, 'end': 4.860000133514404}, {'word': '2024', 'start': 5.099999904632568, 'end': 5.599999904632568}])\n",
      "Moviepy - Building video data/output_6.mp4.\n",
      "MoviePy - Writing audio in output_6TEMP_MPY_wvf_snd.mp4\n"
     ]
    },
    {
     "name": "stderr",
     "output_type": "stream",
     "text": [
      "                                                                   \r"
     ]
    },
    {
     "name": "stdout",
     "output_type": "stream",
     "text": [
      "MoviePy - Done.\n",
      "Moviepy - Writing video data/output_6.mp4\n",
      "\n"
     ]
    },
    {
     "name": "stderr",
     "output_type": "stream",
     "text": [
      "                                                              \r"
     ]
    },
    {
     "name": "stdout",
     "output_type": "stream",
     "text": [
      "Moviepy - Done !\n",
      "Moviepy - video ready data/output_6.mp4\n",
      "['data/output_1.mp4', 'data/output_2.mp4', 'data/output_3.mp4', 'data/output_4.mp4', 'data/output_5.mp4', 'data/output_6.mp4']\n",
      "Music Prompt: Create an energetic and motivational soundtrack that captures the innovative spirit of the AGI Hackathon at MIT. Utilize dynamic rhythms and upbeat electronic beats to boost excitement and inspire participation. Incorporate futuristic sound elements to align with the cutting-edge nature of AI technology.\n",
      "Setting bg music\n",
      "Watermark duration: 21.199999999999996\n",
      "Final video duration: 21.199999999999996\n",
      "Final video size: (1080, 1350)\n",
      "Moviepy - Building video data/output.mp4.\n",
      "MoviePy - Writing audio in outputTEMP_MPY_wvf_snd.mp4\n"
     ]
    },
    {
     "name": "stderr",
     "output_type": "stream",
     "text": [
      "                                                                    \r"
     ]
    },
    {
     "name": "stdout",
     "output_type": "stream",
     "text": [
      "MoviePy - Done.\n",
      "Moviepy - Writing video data/output.mp4\n",
      "\n"
     ]
    },
    {
     "name": "stderr",
     "output_type": "stream",
     "text": [
      "t:  24%|██▍       | 154/636 [00:05<00:16, 29.74it/s, now=None]/Users/artemlukoyanov/miniforge3/envs/tiktoken/lib/python3.11/site-packages/moviepy/video/io/ffmpeg_reader.py:123: UserWarning: Warning: in file data/output_1.mp4, 4374000 bytes wanted but 0 bytes read,at frame 155/156, at time 5.17/5.17 sec. Using the last valid frame instead.\n",
      "  warnings.warn(\"Warning: in file %s, \"%(self.filename)+\n",
      "\n",
      "                                                              \r"
     ]
    },
    {
     "name": "stdout",
     "output_type": "stream",
     "text": [
      "Moviepy - Done !\n",
      "Moviepy - video ready data/output.mp4\n"
     ]
    }
   ],
   "source": [
    "agent_pipeline(SCRIPT, \"data/output.mp4\", style='Local Videos')"
   ]
  },
  {
   "cell_type": "code",
   "execution_count": null,
   "metadata": {},
   "outputs": [],
   "source": []
  }
 ],
 "metadata": {
  "kernelspec": {
   "display_name": "speranskiy",
   "language": "python",
   "name": "python3"
  },
  "language_info": {
   "codemirror_mode": {
    "name": "ipython",
    "version": 3
   },
   "file_extension": ".py",
   "mimetype": "text/x-python",
   "name": "python",
   "nbconvert_exporter": "python",
   "pygments_lexer": "ipython3",
   "version": "3.11.9"
  }
 },
 "nbformat": 4,
 "nbformat_minor": 2
}
