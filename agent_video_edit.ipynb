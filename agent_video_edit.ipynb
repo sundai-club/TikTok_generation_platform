{
 "cells": [
  {
   "cell_type": "code",
   "execution_count": null,
   "metadata": {},
   "outputs": [],
   "source": [
    "%reload_ext autoreload\n",
    "%autoreload 2\n",
    "\n",
    "import json\n",
    "import dotenv\n",
    "dotenv.load_dotenv()\n",
    "\n",
    "from tiktokgen.agent_pipeline import agent_pipeline\n",
    "\n",
    "from ai21 import AI21Client\n",
    "from ai21.models.chat import ChatMessage\n",
    "\n",
    "a21client = AI21Client()"
   ]
  },
  {
   "cell_type": "code",
   "execution_count": null,
   "metadata": {},
   "outputs": [],
   "source": [
    "def generate_video_script(descriptions, event_description):\n",
    "  messages = [\n",
    "    ChatMessage(content=\"\"\"\n",
    "      You are a helpful agent that can generate a video script for a potentially viral TikTok video.\n",
    "      You will be presented with a description of the event and a description of the videos and images taken on the event.\n",
    "      You need to generate a script for the video.\n",
    "      The format of the script should be as follows:\n",
    "      [\n",
    "        {\n",
    "          \"prompt\": \"description of the scene\",\n",
    "          \"text\": \"script text\"\n",
    "        },\n",
    "        ...\n",
    "      ]\n",
    "    \"\"\", role=\"system\"),\n",
    "    ChatMessage(content=f\"\"\"\n",
    "      Video descriptions:\n",
    "      {descriptions}\n",
    "      \n",
    "      Event description:\n",
    "      {event_description}\n",
    "    \"\"\", role=\"user\")\n",
    "  ]\n",
    "  response = a21client.chat.completions.create(\n",
    "  messages=messages,\n",
    "  model=\"jamba-1.5-large\",\n",
    "  stream=True\n",
    ")\n",
    "\n",
    "  final_response = \"\"\n",
    "  for chunk in response:\n",
    "    cur_response = chunk.choices[0].delta.content\n",
    "    if cur_response is not None:\n",
    "      final_response += cur_response\n",
    "\n",
    "  return final_response\n"
   ]
  },
  {
   "cell_type": "code",
   "execution_count": null,
   "metadata": {},
   "outputs": [],
   "source": [
    "with open(\"data/local_media/video_annotations.json\", \"r\") as file:\n",
    "    annotations = json.loads(file.read())\n",
    "video_descriptions = [annotations[p].replace(\"\\n\", \" \") for p in annotations.keys()]\n",
    "full_video_description = \"\\n\".join([f\"{i}. {desc}\" for i, desc in enumerate(video_descriptions)])\n",
    "\n",
    "event_description = \"Today we have participated in the AGI house hackathon. We have built a TikTok video generator that can create videos with the same quality as the ones from TikTok influencers.\"\n",
    "\n",
    "SCRIPT = generate_video_script(video_descriptions, event_description)"
   ]
  },
  {
   "cell_type": "code",
   "execution_count": null,
   "metadata": {},
   "outputs": [],
   "source": [
    "agent_pipeline(SCRIPT, \"data/output.mp4\", style='Local Videos')"
   ]
  },
  {
   "cell_type": "code",
   "execution_count": null,
   "metadata": {},
   "outputs": [],
   "source": []
  }
 ],
 "metadata": {
  "kernelspec": {
   "display_name": "speranskiy",
   "language": "python",
   "name": "python3"
  },
  "language_info": {
   "codemirror_mode": {
    "name": "ipython",
    "version": 3
   },
   "file_extension": ".py",
   "mimetype": "text/x-python",
   "name": "python",
   "nbconvert_exporter": "python",
   "pygments_lexer": "ipython3",
   "version": "3.11.9"
  }
 },
 "nbformat": 4,
 "nbformat_minor": 2
}
