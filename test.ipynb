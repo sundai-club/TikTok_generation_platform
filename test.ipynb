{
 "cells": [
  {
   "cell_type": "code",
   "execution_count": 1,
   "metadata": {},
   "outputs": [
    {
     "name": "stdout",
     "output_type": "stream",
     "text": [
      "Initializing Apify Client... with key: !apify_api_CP7KyH7SaM98Z15LsuHm03pNj3OFuR2lvAFv!\n"
     ]
    }
   ],
   "source": [
    "%reload_ext autoreload\n",
    "%autoreload 2\n",
    "\n",
    "import dotenv\n",
    "dotenv.load_dotenv()\n",
    "\n",
    "from tiktokgen.agent_pipeline import agent_pipeline"
   ]
  },
  {
   "cell_type": "code",
   "execution_count": 2,
   "metadata": {},
   "outputs": [
    {
     "name": "stdout",
     "output_type": "stream",
     "text": [
      "2, 1\n",
      "[2, 1]\n",
      "Converting data/local_media/IMG_7472.MOV to .mp4\n",
      "Converting data/local_media/IMG_7473.MOV to .mp4\n",
      "Audio File Saved: data/Generate_speech_1.mp3\n",
      "transcription_data: Transcription(text=\"We hacked today's most popular AI models and found out how they really work.\", task='transcribe', language='english', duration=4.769999980926514, words=[{'word': 'We', 'start': 0.0, 'end': 0.30000001192092896}, {'word': 'hacked', 'start': 0.30000001192092896, 'end': 0.4399999976158142}, {'word': \"today's\", 'start': 0.4399999976158142, 'end': 0.9599999785423279}, {'word': 'most', 'start': 0.9599999785423279, 'end': 1.159999966621399}, {'word': 'popular', 'start': 1.159999966621399, 'end': 1.559999942779541}, {'word': 'AI', 'start': 1.559999942779541, 'end': 1.940000057220459}, {'word': 'models', 'start': 1.940000057220459, 'end': 2.2799999713897705}, {'word': 'and', 'start': 2.2799999713897705, 'end': 2.680000066757202}, {'word': 'found', 'start': 2.680000066757202, 'end': 2.8399999141693115}, {'word': 'out', 'start': 2.8399999141693115, 'end': 3.0799999237060547}, {'word': 'how', 'start': 3.0799999237060547, 'end': 3.200000047683716}, {'word': 'they', 'start': 3.200000047683716, 'end': 3.319999933242798}, {'word': 'really', 'start': 3.319999933242798, 'end': 3.5999999046325684}, {'word': 'work', 'start': 3.5999999046325684, 'end': 3.880000114440918}])\n",
      "Moviepy - Building video data/output_1.mp4.\n",
      "MoviePy - Writing audio in output_1TEMP_MPY_wvf_snd.mp4\n"
     ]
    },
    {
     "name": "stderr",
     "output_type": "stream",
     "text": [
      "                                                        "
     ]
    },
    {
     "name": "stdout",
     "output_type": "stream",
     "text": [
      "MoviePy - Done.\n",
      "Moviepy - Writing video data/output_1.mp4\n",
      "\n"
     ]
    },
    {
     "name": "stderr",
     "output_type": "stream",
     "text": [
      "                                                              \r"
     ]
    },
    {
     "name": "stdout",
     "output_type": "stream",
     "text": [
      "Moviepy - Done !\n",
      "Moviepy - video ready data/output_1.mp4\n",
      "Audio File Saved: data/Generate_speech_2.mp3\n",
      "transcription_data: Transcription(text='We built a TikTok video generator that can create videos with the same quality as the ones from TikTok influencers.', task='transcribe', language='english', duration=7.21999979019165, words=[{'word': 'We', 'start': 0.0, 'end': 0.20000000298023224}, {'word': 'built', 'start': 0.20000000298023224, 'end': 0.4000000059604645}, {'word': 'a', 'start': 0.4000000059604645, 'end': 0.6600000262260437}, {'word': 'TikTok', 'start': 0.6600000262260437, 'end': 1.0}, {'word': 'video', 'start': 1.0, 'end': 1.4199999570846558}, {'word': 'generator', 'start': 1.4199999570846558, 'end': 1.899999976158142}, {'word': 'that', 'start': 1.899999976158142, 'end': 2.440000057220459}, {'word': 'can', 'start': 2.440000057220459, 'end': 2.6600000858306885}, {'word': 'create', 'start': 2.6600000858306885, 'end': 2.940000057220459}, {'word': 'videos', 'start': 2.940000057220459, 'end': 3.4200000762939453}, {'word': 'with', 'start': 3.4200000762939453, 'end': 3.7200000286102295}, {'word': 'the', 'start': 3.7200000286102295, 'end': 3.940000057220459}, {'word': 'same', 'start': 3.940000057220459, 'end': 4.320000171661377}, {'word': 'quality', 'start': 4.320000171661377, 'end': 4.840000152587891}, {'word': 'as', 'start': 4.840000152587891, 'end': 5.420000076293945}, {'word': 'the', 'start': 5.420000076293945, 'end': 5.5}, {'word': 'ones', 'start': 5.5, 'end': 5.71999979019165}, {'word': 'from', 'start': 5.71999979019165, 'end': 5.920000076293945}, {'word': 'TikTok', 'start': 5.920000076293945, 'end': 6.320000171661377}, {'word': 'influencers', 'start': 6.320000171661377, 'end': 6.840000152587891}])\n",
      "Moviepy - Building video data/output_2.mp4.\n",
      "MoviePy - Writing audio in output_2TEMP_MPY_wvf_snd.mp4\n"
     ]
    },
    {
     "name": "stderr",
     "output_type": "stream",
     "text": [
      "                                                                   \r"
     ]
    },
    {
     "name": "stdout",
     "output_type": "stream",
     "text": [
      "MoviePy - Done.\n",
      "Moviepy - Writing video data/output_2.mp4\n",
      "\n"
     ]
    },
    {
     "name": "stderr",
     "output_type": "stream",
     "text": [
      "                                                              \r"
     ]
    },
    {
     "name": "stdout",
     "output_type": "stream",
     "text": [
      "Moviepy - Done !\n",
      "Moviepy - video ready data/output_2.mp4\n",
      "['data/output_1.mp4', 'data/output_2.mp4']\n",
      "Music Prompt: Compose an investigative and triumphant soundtrack that incorporates suspenseful and inquisitive tones to enhance the uncovering of AI model secrets. Use dynamic crescendos to emphasize moments of revelation, gradually building tension and curiosity.\n"
     ]
    }
   ],
   "source": [
    "SCRIPT = [\n",
    "    {\n",
    "        \"text\": \"We hacked today's most popular AI models and found out how they really work.\",\n",
    "        \"foreground_img\": None\n",
    "    },\n",
    "    {\n",
    "        \"text\": \"We built a TikTok video generator that can create videos with the same quality as the ones from TikTok influencers.\",\n",
    "        \"foreground_img\": None\n",
    "    }\n",
    "]\n",
    "\n",
    "agent_pipeline(SCRIPT, \"data/output.mp4\", style='Local Videos')"
   ]
  },
  {
   "cell_type": "code",
   "execution_count": null,
   "metadata": {},
   "outputs": [],
   "source": []
  }
 ],
 "metadata": {
  "kernelspec": {
   "display_name": "speranskiy",
   "language": "python",
   "name": "python3"
  },
  "language_info": {
   "codemirror_mode": {
    "name": "ipython",
    "version": 3
   },
   "file_extension": ".py",
   "mimetype": "text/x-python",
   "name": "python",
   "nbconvert_exporter": "python",
   "pygments_lexer": "ipython3",
   "version": "3.11.9"
  }
 },
 "nbformat": 4,
 "nbformat_minor": 2
}
